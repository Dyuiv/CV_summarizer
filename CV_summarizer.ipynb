{
 "cells": [
  {
   "cell_type": "code",
   "execution_count": 1,
   "id": "75901525",
   "metadata": {},
   "outputs": [
    {
     "name": "stdout",
     "output_type": "stream",
     "text": [
      "Requirement already satisfied: torch in c:\\users\\vadim\\anaconda3\\lib\\site-packages (2.4.1)\n",
      "Requirement already satisfied: filelock in c:\\users\\vadim\\anaconda3\\lib\\site-packages (from torch) (3.9.0)\n",
      "Requirement already satisfied: typing-extensions>=4.8.0 in c:\\users\\vadim\\anaconda3\\lib\\site-packages (from torch) (4.12.2)\n",
      "Requirement already satisfied: sympy in c:\\users\\vadim\\anaconda3\\lib\\site-packages (from torch) (1.11.1)\n",
      "Requirement already satisfied: networkx in c:\\users\\vadim\\anaconda3\\lib\\site-packages (from torch) (2.8.4)\n",
      "Requirement already satisfied: jinja2 in c:\\users\\vadim\\anaconda3\\lib\\site-packages (from torch) (3.1.2)\n",
      "Requirement already satisfied: fsspec in c:\\users\\vadim\\anaconda3\\lib\\site-packages (from torch) (2024.9.0)\n",
      "Requirement already satisfied: MarkupSafe>=2.0 in c:\\users\\vadim\\anaconda3\\lib\\site-packages (from jinja2->torch) (2.1.1)\n",
      "Requirement already satisfied: mpmath>=0.19 in c:\\users\\vadim\\anaconda3\\lib\\site-packages (from sympy->torch) (1.2.1)\n",
      "Requirement already satisfied: fitz in c:\\users\\vadim\\anaconda3\\lib\\site-packages (0.0.1.dev2)\n",
      "Requirement already satisfied: configobj in c:\\users\\vadim\\anaconda3\\lib\\site-packages (from fitz) (5.0.9)\n",
      "Requirement already satisfied: configparser in c:\\users\\vadim\\anaconda3\\lib\\site-packages (from fitz) (7.1.0)\n",
      "Requirement already satisfied: httplib2 in c:\\users\\vadim\\anaconda3\\lib\\site-packages (from fitz) (0.22.0)\n",
      "Requirement already satisfied: nibabel in c:\\users\\vadim\\anaconda3\\lib\\site-packages (from fitz) (5.2.1)\n",
      "Requirement already satisfied: nipype in c:\\users\\vadim\\anaconda3\\lib\\site-packages (from fitz) (1.8.6)\n",
      "Requirement already satisfied: numpy in c:\\users\\vadim\\anaconda3\\lib\\site-packages (from fitz) (1.24.3)\n",
      "Requirement already satisfied: pandas in c:\\users\\vadim\\anaconda3\\lib\\site-packages (from fitz) (1.5.3)\n",
      "Requirement already satisfied: pyxnat in c:\\users\\vadim\\anaconda3\\lib\\site-packages (from fitz) (1.6.2)\n",
      "Requirement already satisfied: scipy in c:\\users\\vadim\\anaconda3\\lib\\site-packages (from fitz) (1.10.1)\n",
      "Requirement already satisfied: pyparsing!=3.0.0,!=3.0.1,!=3.0.2,!=3.0.3,<4,>=2.4.2 in c:\\users\\vadim\\anaconda3\\lib\\site-packages (from httplib2->fitz) (3.0.9)\n",
      "Requirement already satisfied: packaging>=17 in c:\\users\\vadim\\anaconda3\\lib\\site-packages (from nibabel->fitz) (23.0)\n",
      "Requirement already satisfied: click>=6.6.0 in c:\\users\\vadim\\anaconda3\\lib\\site-packages (from nipype->fitz) (8.0.4)\n",
      "Requirement already satisfied: networkx>=2.0 in c:\\users\\vadim\\anaconda3\\lib\\site-packages (from nipype->fitz) (2.8.4)\n",
      "Requirement already satisfied: prov>=1.5.2 in c:\\users\\vadim\\anaconda3\\lib\\site-packages (from nipype->fitz) (2.0.1)\n",
      "Requirement already satisfied: pydot>=1.2.3 in c:\\users\\vadim\\anaconda3\\lib\\site-packages (from nipype->fitz) (3.0.2)\n",
      "Requirement already satisfied: python-dateutil>=2.2 in c:\\users\\vadim\\anaconda3\\lib\\site-packages (from nipype->fitz) (2.8.2)\n",
      "Requirement already satisfied: rdflib>=5.0.0 in c:\\users\\vadim\\anaconda3\\lib\\site-packages (from nipype->fitz) (6.3.2)\n",
      "Requirement already satisfied: simplejson>=3.8.0 in c:\\users\\vadim\\anaconda3\\lib\\site-packages (from nipype->fitz) (3.19.3)\n",
      "Requirement already satisfied: traits!=5.0,<6.4,>=4.6 in c:\\users\\vadim\\anaconda3\\lib\\site-packages (from nipype->fitz) (6.3.2)\n",
      "Requirement already satisfied: filelock>=3.0.0 in c:\\users\\vadim\\anaconda3\\lib\\site-packages (from nipype->fitz) (3.9.0)\n",
      "Requirement already satisfied: etelemetry>=0.2.0 in c:\\users\\vadim\\anaconda3\\lib\\site-packages (from nipype->fitz) (0.3.1)\n",
      "Requirement already satisfied: looseversion in c:\\users\\vadim\\anaconda3\\lib\\site-packages (from nipype->fitz) (1.3.0)\n",
      "Requirement already satisfied: pytz>=2020.1 in c:\\users\\vadim\\anaconda3\\lib\\site-packages (from pandas->fitz) (2022.7)\n",
      "Requirement already satisfied: lxml>=4.3 in c:\\users\\vadim\\anaconda3\\lib\\site-packages (from pyxnat->fitz) (4.9.2)\n",
      "Requirement already satisfied: requests>=2.20 in c:\\users\\vadim\\anaconda3\\lib\\site-packages (from pyxnat->fitz) (2.32.3)\n",
      "Requirement already satisfied: pathlib>=1.0 in c:\\users\\vadim\\anaconda3\\lib\\site-packages (from pyxnat->fitz) (1.0.1)\n",
      "Requirement already satisfied: colorama in c:\\users\\vadim\\anaconda3\\lib\\site-packages (from click>=6.6.0->nipype->fitz) (0.4.6)\n",
      "Requirement already satisfied: ci-info>=0.2 in c:\\users\\vadim\\anaconda3\\lib\\site-packages (from etelemetry>=0.2.0->nipype->fitz) (0.3.0)\n",
      "Requirement already satisfied: six>=1.5 in c:\\users\\vadim\\anaconda3\\lib\\site-packages (from python-dateutil>=2.2->nipype->fitz) (1.16.0)\n",
      "Requirement already satisfied: isodate<0.7.0,>=0.6.0 in c:\\users\\vadim\\anaconda3\\lib\\site-packages (from rdflib>=5.0.0->nipype->fitz) (0.6.1)\n",
      "Requirement already satisfied: charset-normalizer<4,>=2 in c:\\users\\vadim\\anaconda3\\lib\\site-packages (from requests>=2.20->pyxnat->fitz) (2.0.4)\n",
      "Requirement already satisfied: idna<4,>=2.5 in c:\\users\\vadim\\anaconda3\\lib\\site-packages (from requests>=2.20->pyxnat->fitz) (3.4)\n",
      "Requirement already satisfied: urllib3<3,>=1.21.1 in c:\\users\\vadim\\anaconda3\\lib\\site-packages (from requests>=2.20->pyxnat->fitz) (1.26.16)\n",
      "Requirement already satisfied: certifi>=2017.4.17 in c:\\users\\vadim\\anaconda3\\lib\\site-packages (from requests>=2.20->pyxnat->fitz) (2023.5.7)\n",
      "Requirement already satisfied: PyMuPDF in c:\\users\\vadim\\anaconda3\\lib\\site-packages (1.24.11)\n",
      "Requirement already satisfied: transformers in c:\\users\\vadim\\anaconda3\\lib\\site-packages (4.45.1)\n",
      "Requirement already satisfied: filelock in c:\\users\\vadim\\anaconda3\\lib\\site-packages (from transformers) (3.9.0)\n",
      "Requirement already satisfied: huggingface-hub<1.0,>=0.23.2 in c:\\users\\vadim\\anaconda3\\lib\\site-packages (from transformers) (0.25.1)\n",
      "Requirement already satisfied: numpy>=1.17 in c:\\users\\vadim\\anaconda3\\lib\\site-packages (from transformers) (1.24.3)\n",
      "Requirement already satisfied: packaging>=20.0 in c:\\users\\vadim\\anaconda3\\lib\\site-packages (from transformers) (23.0)\n",
      "Requirement already satisfied: pyyaml>=5.1 in c:\\users\\vadim\\anaconda3\\lib\\site-packages (from transformers) (6.0)\n",
      "Requirement already satisfied: regex!=2019.12.17 in c:\\users\\vadim\\anaconda3\\lib\\site-packages (from transformers) (2022.7.9)\n",
      "Requirement already satisfied: requests in c:\\users\\vadim\\anaconda3\\lib\\site-packages (from transformers) (2.32.3)\n",
      "Requirement already satisfied: safetensors>=0.4.1 in c:\\users\\vadim\\anaconda3\\lib\\site-packages (from transformers) (0.4.5)\n",
      "Requirement already satisfied: tokenizers<0.21,>=0.20 in c:\\users\\vadim\\anaconda3\\lib\\site-packages (from transformers) (0.20.0)\n",
      "Requirement already satisfied: tqdm>=4.27 in c:\\users\\vadim\\anaconda3\\lib\\site-packages (from transformers) (4.66.5)\n",
      "Requirement already satisfied: fsspec>=2023.5.0 in c:\\users\\vadim\\anaconda3\\lib\\site-packages (from huggingface-hub<1.0,>=0.23.2->transformers) (2024.9.0)\n",
      "Requirement already satisfied: typing-extensions>=3.7.4.3 in c:\\users\\vadim\\anaconda3\\lib\\site-packages (from huggingface-hub<1.0,>=0.23.2->transformers) (4.12.2)\n",
      "Requirement already satisfied: colorama in c:\\users\\vadim\\anaconda3\\lib\\site-packages (from tqdm>=4.27->transformers) (0.4.6)\n",
      "Requirement already satisfied: charset-normalizer<4,>=2 in c:\\users\\vadim\\anaconda3\\lib\\site-packages (from requests->transformers) (2.0.4)\n",
      "Requirement already satisfied: idna<4,>=2.5 in c:\\users\\vadim\\anaconda3\\lib\\site-packages (from requests->transformers) (3.4)\n",
      "Requirement already satisfied: urllib3<3,>=1.21.1 in c:\\users\\vadim\\anaconda3\\lib\\site-packages (from requests->transformers) (1.26.16)\n",
      "Requirement already satisfied: certifi>=2017.4.17 in c:\\users\\vadim\\anaconda3\\lib\\site-packages (from requests->transformers) (2023.5.7)\n"
     ]
    },
    {
     "name": "stderr",
     "output_type": "stream",
     "text": [
      "You are using the default legacy behaviour of the <class 'transformers.models.t5.tokenization_t5.T5Tokenizer'>. This is expected, and simply means that the `legacy` (previous) behavior will be used so nothing changes for you. If you want to use the new behaviour, set `legacy=False`. This should only be set if you understand what it means, and thoroughly read the reason why this was added as explained in https://github.com/huggingface/transformers/pull/24565\n",
      "C:\\Users\\Vadim\\anaconda3\\Lib\\site-packages\\transformers\\tokenization_utils_base.py:1617: FutureWarning: `clean_up_tokenization_spaces` was not set. It will be set to `True` by default. This behavior will be deprecated in transformers v4.45, and will be then set to `False` by default. For more details check this issue: https://github.com/huggingface/transformers/issues/31884\n",
      "  warnings.warn(\n"
     ]
    }
   ],
   "source": [
    "# Загрузка всего необходимого\n",
    "!pip install torch\n",
    "!pip install fitz\n",
    "!pip install PyMuPDF\n",
    "!pip install transformers\n",
    "from transformers import T5ForConditionalGeneration, T5Tokenizer\n",
    "from datetime import datetime\n",
    "import json\n",
    "import torch\n",
    "import fitz\n",
    "import re\n",
    "model = T5ForConditionalGeneration.from_pretrained('IlyaGusev/rut5_base_sum_gazeta')\n",
    "tokenizer = T5Tokenizer.from_pretrained('IlyaGusev/rut5_base_sum_gazeta')\n",
    "device = \"cuda\" if torch.cuda.is_available() else \"cpu\""
   ]
  },
  {
   "cell_type": "code",
   "execution_count": 3,
   "id": "8b9d148b",
   "metadata": {},
   "outputs": [],
   "source": [
    "#Функция загрузки резюме\n",
    "def get_cv(CV):\n",
    "    CV_title = CV\n",
    "    #Открываем PDF-файл\n",
    "    with fitz.open(CV_title) as doc:\n",
    "        extracted_text = ''\n",
    "        # Проходим по каждой странице\n",
    "        for page in doc:\n",
    "            # Извлекаем только текст, игнорируя изображения\n",
    "            extracted_text += page.get_text(\"text\")\n",
    "    return extracted_text\n",
    "            \n",
    "# Функция для суммаризации одного блока текста\n",
    "def summarize_text(text):\n",
    "    input_ids = tokenizer(\n",
    "    [text],\n",
    "    add_special_tokens=True,\n",
    "    padding=\"max_length\",\n",
    "    truncation=True,\n",
    "    max_length=400,\n",
    "    return_tensors=\"pt\")[\"input_ids\"].to(device)\n",
    "\n",
    "    output_ids = model.generate(\n",
    "    input_ids=input_ids,\n",
    "    no_repeat_ngram_size=3,\n",
    "    num_beams=10,\n",
    "    length_penalty=2,\n",
    "    early_stopping=True)[0]\n",
    "    summary = tokenizer.decode(output_ids, skip_special_tokens=True)\n",
    "    return summary\n",
    "\n",
    "#Разбиение текста на блоки\n",
    "def split_text(text, max_length=300):\n",
    "    sentences = text.split(\". \")\n",
    "    current_chunk = []\n",
    "    current_length = 0\n",
    "    chunks = []\n",
    "    for sentence in sentences:\n",
    "        length = len(tokenizer.encode(sentence))\n",
    "        if current_length + length <= max_length:\n",
    "            current_chunk.append(sentence)\n",
    "            current_length += length\n",
    "        else:\n",
    "            chunks.append(\". \".join(current_chunk) + \".\")\n",
    "            current_chunk = [sentence]\n",
    "            current_length = length\n",
    "\n",
    "    if current_chunk:\n",
    "        chunks.append(\". \".join(current_chunk) + \".\")\n",
    "    \n",
    "    if((len(tokenizer.encode(chunks[len(chunks)-1])))<100):\n",
    "        chunks[len(chunks)-2] += \" \"\n",
    "        chunks[len(chunks)-2] += chunks[len(chunks)-1]\n",
    "        chunks.remove(chunks[len(chunks)-1])\n",
    "    return chunks\n",
    "\n",
    "\n",
    "#Функция запуска суммаризации\n",
    "def summarize_long_text(long_text):\n",
    "    chunks = split_text(long_text)\n",
    "    summarized_chunks = [summarize_text(chunk) for chunk in chunks]\n",
    "    final_summary = \"\\n\".join(summarized_chunks)\n",
    "    return final_summary\n",
    "\n",
    "#Основаня функция\n",
    "def summarize(CV):\n",
    "    extracted_cv = get_cv(CV)\n",
    "    short_summary = summarize_long_text(extracted_cv)\n",
    "    final_summary = summarize_text(short_summary)\n",
    "    print(CV[:len(CV)-4])\n",
    "    print(\"Суммаризация резюме:\")\n",
    "    print(final_summary)\n",
    "    "
   ]
  },
  {
   "cell_type": "code",
   "execution_count": 4,
   "id": "da0d95a1",
   "metadata": {},
   "outputs": [
    {
     "name": "stdout",
     "output_type": "stream",
     "text": [
      "Фомин Марк Кириллович\n",
      "Суммаризация резюме:\n",
      "Занятость: Полная Желаемая зарплата: от 45 000 руб. Дата рождения: 11.12.1989 г. (32 года) О себе Личные качества Умение быстро ориентироваться в ситуации, требовательность к себе и окружающим, стремление к организации четкого и сбалансированного производственного процесса.\n"
     ]
    }
   ],
   "source": [
    "summarize(\"Фомин Марк Кириллович.pdf\")"
   ]
  },
  {
   "cell_type": "code",
   "execution_count": 5,
   "id": "9a0eb3b6",
   "metadata": {},
   "outputs": [
    {
     "name": "stdout",
     "output_type": "stream",
     "text": [
      "Осипов Артём Михайлович\n",
      "Суммаризация резюме:\n",
      "Обязанности: Составление штатного расписания, нормирование оплаты труда, ведение бухгалтерского и налогового учета в программе 1С:7. Опыт работы в структуре системных предприятий холдинга: Работа с первичной документацией, сверка взаиморасчетов с контрагентами и размещение на Госзакупках.\n"
     ]
    }
   ],
   "source": [
    "summarize(\"Осипов Артём Михайлович.pdf\")"
   ]
  },
  {
   "cell_type": "code",
   "execution_count": 6,
   "id": "9c673340",
   "metadata": {},
   "outputs": [
    {
     "name": "stdout",
     "output_type": "stream",
     "text": [
      "Соколова Олеся Артуровна\n",
      "Суммаризация резюме:\n",
      "Институт лингвистики и международных коммуникаций в Челябинске окончила курс переводчика в сфере профессиональной коммуникации. О себе Личные качества Настойчивость, проявление инициативы, активность, обучаемость, исполнительность.\n"
     ]
    }
   ],
   "source": [
    "summarize(\"Соколова Олеся Артуровна.pdf\")"
   ]
  }
 ],
 "metadata": {
  "kernelspec": {
   "display_name": "Python 3 (ipykernel)",
   "language": "python",
   "name": "python3"
  },
  "language_info": {
   "codemirror_mode": {
    "name": "ipython",
    "version": 3
   },
   "file_extension": ".py",
   "mimetype": "text/x-python",
   "name": "python",
   "nbconvert_exporter": "python",
   "pygments_lexer": "ipython3",
   "version": "3.11.3"
  }
 },
 "nbformat": 4,
 "nbformat_minor": 5
}
